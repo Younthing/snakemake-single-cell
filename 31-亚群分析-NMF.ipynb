{
 "cells": [
  {
   "cell_type": "code",
   "execution_count": 1,
   "metadata": {},
   "outputs": [
    {
     "ename": "ModuleNotFoundError",
     "evalue": "No module named 'omicverse'",
     "output_type": "error",
     "traceback": [
      "\u001b[0;31m---------------------------------------------------------------------------\u001b[0m",
      "\u001b[0;31mModuleNotFoundError\u001b[0m                       Traceback (most recent call last)",
      "Cell \u001b[0;32mIn[1], line 2\u001b[0m\n\u001b[1;32m      1\u001b[0m \u001b[38;5;28;01mimport\u001b[39;00m \u001b[38;5;21;01mscanpy\u001b[39;00m \u001b[38;5;28;01mas\u001b[39;00m \u001b[38;5;21;01msc\u001b[39;00m\n\u001b[0;32m----> 2\u001b[0m \u001b[38;5;28;01mimport\u001b[39;00m \u001b[38;5;21;01momicverse\u001b[39;00m \u001b[38;5;28;01mas\u001b[39;00m \u001b[38;5;21;01mov\u001b[39;00m\n\u001b[1;32m      4\u001b[0m ov\u001b[38;5;241m.\u001b[39mplot_set()\n",
      "\u001b[0;31mModuleNotFoundError\u001b[0m: No module named 'omicverse'"
     ]
    }
   ],
   "source": [
    "import scanpy as sc\n",
    "import omicverse as ov\n",
    "\n",
    "ov.plot_set()"
   ]
  },
  {
   "cell_type": "code",
   "execution_count": null,
   "metadata": {},
   "outputs": [],
   "source": [
    "# 定义您的分组列和细胞类型注释列名称\n",
    "GROUP_COL = \"group\"  # 替换为您的实际分组列名，例如 'ctrl' 和 'stim'\n",
    "SIMPLE_COL = \"patients_organ\"\n"
   ]
  },
  {
   "cell_type": "code",
   "execution_count": null,
   "metadata": {},
   "outputs": [],
   "source": [
    "# 设置参数\n",
    "import matplotlib as mpl\n",
    "\n",
    "mpl.rcParams[\"pdf.fonttype\"] = 42  # 保留字体\n",
    "sc.settings.verbosity = 4  # 输出细节\n",
    "sc._settings.ScanpyConfig.n_jobs = -1  # 使用所有核心\n",
    "sc.settings.set_figure_params(\n",
    "    dpi=80,\n",
    "    dpi_save=600,\n",
    "    facecolor=\"white\",\n",
    "    frameon=False,  # remove frame\n",
    ")"
   ]
  },
  {
   "cell_type": "code",
   "execution_count": null,
   "metadata": {},
   "outputs": [],
   "source": [
    "adata = sc.read(\"results/adata_raw_CCL_LCL/anndata_annotation_harmony_celltypist.h5ad\")"
   ]
  },
  {
   "cell_type": "code",
   "execution_count": null,
   "metadata": {},
   "outputs": [],
   "source": [
    "%%time\n",
    "adata=ov.pp.preprocess(adata,mode='shiftlog|pearson',n_HVGs=2000,)\n",
    "adata"
   ]
  },
  {
   "cell_type": "code",
   "execution_count": null,
   "metadata": {},
   "outputs": [],
   "source": [
    "ov.pp.scale(adata)\n",
    "ov.pp.pca(adata)"
   ]
  },
  {
   "cell_type": "code",
   "execution_count": null,
   "metadata": {},
   "outputs": [],
   "source": [
    "import matplotlib.pyplot as plt\n",
    "from matplotlib import patheffects\n",
    "\n",
    "fig, ax = plt.subplots(figsize=(4, 4))\n",
    "ov.pl.embedding(\n",
    "    adata,\n",
    "    basis=\"X_umap\",\n",
    "    color=[SIMPLE_COL],\n",
    "    frameon=\"small\",\n",
    "    title=\"Celltypes\",\n",
    "    # legend_loc='on data',\n",
    "    legend_fontsize=14,\n",
    "    legend_fontoutline=2,\n",
    "    # size=10,\n",
    "    ax=ax,\n",
    "    # legend_loc=True,\n",
    "    add_outline=False,\n",
    "    # add_outline=True,\n",
    "    outline_color=\"black\",\n",
    "    outline_width=1,\n",
    "    show=False,\n",
    ")"
   ]
  },
  {
   "cell_type": "markdown",
   "metadata": {},
   "source": [
    "- 初始化模型"
   ]
  },
  {
   "cell_type": "code",
   "execution_count": null,
   "metadata": {},
   "outputs": [],
   "source": [
    "import numpy as np\n",
    "## Initialize the cnmf object that will be used to run analyses\n",
    "cnmf_obj = ov.single.cNMF(adata,components=np.arange(3,20), n_iter=200, seed=123, num_highvar_genes=2000,\n",
    "                          output_dir='example_dg/cNMF', name='dg_cNMF')"
   ]
  },
  {
   "cell_type": "code",
   "execution_count": null,
   "metadata": {},
   "outputs": [],
   "source": [
    "## Specify that the jobs are being distributed over a single worker (total_workers=1) and then launch that worker\n",
    "cnmf_obj.factorize(worker_i=0, total_workers=20)"
   ]
  },
  {
   "cell_type": "code",
   "execution_count": null,
   "metadata": {},
   "outputs": [],
   "source": [
    "cnmf_obj.combine(skip_missing_files=True)"
   ]
  },
  {
   "cell_type": "markdown",
   "metadata": {},
   "source": [
    "- Compute the stability and error at each choice of K to see if a clear choice jumps out"
   ]
  },
  {
   "cell_type": "code",
   "execution_count": null,
   "metadata": {},
   "outputs": [],
   "source": [
    "cnmf_obj.k_selection_plot(close_fig=False)"
   ]
  },
  {
   "cell_type": "markdown",
   "metadata": {},
   "source": [
    "In this range, K=7 gave the most stable solution so we will begin by looking at that.\n",
    "\n",
    "The next step computes the consensus solution for a given choice of K. We first run it without any outlier filtering to see what that looks like. Setting the density threshold to anything >= 2.00 (the maximum possible distance between two unit vectors) ensures that nothing will be filtered."
   ]
  },
  {
   "cell_type": "code",
   "execution_count": 14,
   "metadata": {},
   "outputs": [],
   "source": [
    "selected_K = 7\n",
    "density_threshold = 2.00"
   ]
  },
  {
   "cell_type": "code",
   "execution_count": null,
   "metadata": {},
   "outputs": [],
   "source": [
    "cnmf_obj.consensus(\n",
    "    k=selected_K,\n",
    "    density_threshold=density_threshold,\n",
    "    show_clustering=True,\n",
    "    close_clustergram_fig=False,\n",
    ")"
   ]
  },
  {
   "cell_type": "code",
   "execution_count": 18,
   "metadata": {},
   "outputs": [],
   "source": [
    "density_threshold = 0.10"
   ]
  },
  {
   "cell_type": "code",
   "execution_count": null,
   "metadata": {},
   "outputs": [],
   "source": [
    "\n",
    "cnmf_obj.consensus(\n",
    "    k=selected_K,\n",
    "    density_threshold=density_threshold,\n",
    "    show_clustering=True,\n",
    "    close_clustergram_fig=False,\n",
    ")"
   ]
  },
  {
   "cell_type": "code",
   "execution_count": null,
   "metadata": {},
   "outputs": [],
   "source": [
    "import seaborn as sns\n",
    "import matplotlib.pyplot as plt\n",
    "from matplotlib import patheffects\n",
    "\n",
    "from matplotlib import gridspec\n",
    "import matplotlib.pyplot as plt\n",
    "\n",
    "width_ratios = [0.2, 4, 0.5, 10, 1]\n",
    "height_ratios = [0.2, 4]\n",
    "fig = plt.figure(figsize=(sum(width_ratios), sum(height_ratios)))\n",
    "gs = gridspec.GridSpec(\n",
    "    len(height_ratios),\n",
    "    len(width_ratios),\n",
    "    fig,\n",
    "    0.01,\n",
    "    0.01,\n",
    "    0.98,\n",
    "    0.98,\n",
    "    height_ratios=height_ratios,\n",
    "    width_ratios=width_ratios,\n",
    "    wspace=0,\n",
    "    hspace=0,\n",
    ")\n",
    "\n",
    "D = cnmf_obj.topic_dist[cnmf_obj.spectra_order, :][:, cnmf_obj.spectra_order]\n",
    "dist_ax = fig.add_subplot(\n",
    "    gs[1, 1],\n",
    "    xscale=\"linear\",\n",
    "    yscale=\"linear\",\n",
    "    xticks=[],\n",
    "    yticks=[],\n",
    "    xlabel=\"\",\n",
    "    ylabel=\"\",\n",
    "    frameon=True,\n",
    ")\n",
    "dist_im = dist_ax.imshow(\n",
    "    D, interpolation=\"none\", cmap=\"viridis\", aspect=\"auto\", rasterized=True\n",
    ")\n",
    "\n",
    "left_ax = fig.add_subplot(\n",
    "    gs[1, 0],\n",
    "    xscale=\"linear\",\n",
    "    yscale=\"linear\",\n",
    "    xticks=[],\n",
    "    yticks=[],\n",
    "    xlabel=\"\",\n",
    "    ylabel=\"\",\n",
    "    frameon=True,\n",
    ")\n",
    "left_ax.imshow(\n",
    "    cnmf_obj.kmeans_cluster_labels.values[cnmf_obj.spectra_order].reshape(-1, 1),\n",
    "    interpolation=\"none\",\n",
    "    cmap=\"Spectral\",\n",
    "    aspect=\"auto\",\n",
    "    rasterized=True,\n",
    ")\n",
    "\n",
    "top_ax = fig.add_subplot(\n",
    "    gs[0, 1],\n",
    "    xscale=\"linear\",\n",
    "    yscale=\"linear\",\n",
    "    xticks=[],\n",
    "    yticks=[],\n",
    "    xlabel=\"\",\n",
    "    ylabel=\"\",\n",
    "    frameon=True,\n",
    ")\n",
    "top_ax.imshow(\n",
    "    cnmf_obj.kmeans_cluster_labels.values[cnmf_obj.spectra_order].reshape(1, -1),\n",
    "    interpolation=\"none\",\n",
    "    cmap=\"Spectral\",\n",
    "    aspect=\"auto\",\n",
    "    rasterized=True,\n",
    ")\n",
    "\n",
    "cbar_gs = gridspec.GridSpecFromSubplotSpec(\n",
    "    3, 3, subplot_spec=gs[1, 2], wspace=0, hspace=0\n",
    ")\n",
    "cbar_ax = fig.add_subplot(\n",
    "    cbar_gs[1, 2],\n",
    "    xscale=\"linear\",\n",
    "    yscale=\"linear\",\n",
    "    xlabel=\"\",\n",
    "    ylabel=\"\",\n",
    "    frameon=True,\n",
    "    title=\"Euclidean\\nDistance\",\n",
    ")\n",
    "cbar_ax.set_title(\"Euclidean\\nDistance\", fontsize=12)\n",
    "vmin = D.min().min()\n",
    "vmax = D.max().max()\n",
    "fig.colorbar(\n",
    "    dist_im,\n",
    "    cax=cbar_ax,\n",
    "    ticks=np.linspace(vmin, vmax, 3),\n",
    ")\n",
    "cbar_ax.set_yticklabels(cbar_ax.get_yticklabels(), fontsize=12)\n",
    "plt.tight_layout()  # 确保布局紧凑\n",
    "plt.savefig(\"./figures/31-亚群分析-NMF聚类图.png\")\n",
    "plt.show()"
   ]
  },
  {
   "cell_type": "code",
   "execution_count": null,
   "metadata": {},
   "outputs": [],
   "source": [
    "density_filter = cnmf_obj.local_density.iloc[:, 0] < density_threshold\n",
    "fig, hist_ax = plt.subplots(figsize=(4, 4))\n",
    "\n",
    "# hist_ax = fig.add_subplot(hist_gs[0,0], xscale='linear', yscale='linear',\n",
    "#   xlabel='', ylabel='', frameon=True, title='Local density histogram')\n",
    "hist_ax.hist(cnmf_obj.local_density.values, bins=np.linspace(0, 1, 50))\n",
    "hist_ax.yaxis.tick_right()\n",
    "\n",
    "xlim = hist_ax.get_xlim()\n",
    "ylim = hist_ax.get_ylim()\n",
    "if density_threshold < xlim[1]:\n",
    "    hist_ax.axvline(density_threshold, linestyle=\"--\", color=\"k\")\n",
    "    hist_ax.text(\n",
    "        density_threshold + 0.02, ylim[1] * 0.95, \"filtering\\nthreshold\\n\\n\", va=\"top\"\n",
    "    )\n",
    "hist_ax.set_xlim(xlim)\n",
    "hist_ax.set_xlabel(\n",
    "    \"Mean distance to k nearest neighbors\\n\\n%d/%d (%.0f%%) spectra above threshold\\nwere removed prior to clustering\"\n",
    "    % (sum(~density_filter), len(density_filter), 100 * (~density_filter).mean())\n",
    ")\n",
    "hist_ax.set_title(\"Local density histogram\")"
   ]
  },
  {
   "cell_type": "code",
   "execution_count": null,
   "metadata": {},
   "outputs": [],
   "source": [
    "result_dict = cnmf_obj.load_results(\n",
    "    K=selected_K, \n",
    "    density_threshold=density_threshold,\n",
    "    # n_top_genes=None,\n",
    "    n_top_genes=100,\n",
    "                                    )\n",
    "result_dict[\"usage_norm\"].head()"
   ]
  },
  {
   "cell_type": "code",
   "execution_count": null,
   "metadata": {},
   "outputs": [],
   "source": [
    "result_dict[\"gep_scores\"].head()"
   ]
  },
  {
   "cell_type": "code",
   "execution_count": null,
   "metadata": {},
   "outputs": [],
   "source": [
    "result_dict[\"gep_tpm\"].head()"
   ]
  },
  {
   "cell_type": "code",
   "execution_count": null,
   "metadata": {},
   "outputs": [],
   "source": [
    "result_dict[\"top_genes\"].to_csv(\"./table/31-NMFgene_谱评分_top100.csv\")\n",
    "result_dict[\"top_genes\"]"
   ]
  },
  {
   "cell_type": "code",
   "execution_count": null,
   "metadata": {},
   "outputs": [],
   "source": [
    "cnmf_obj.get_results(adata, result_dict)"
   ]
  },
  {
   "cell_type": "code",
   "execution_count": null,
   "metadata": {},
   "outputs": [],
   "source": [
    "ov.pl.embedding(\n",
    "    adata,\n",
    "    basis=\"X_umap\",\n",
    "    color=result_dict[\"usage_norm\"].columns,\n",
    "    use_raw=False,\n",
    "    ncols=3,\n",
    "    vmin=0,\n",
    "    vmax=1,\n",
    "    frameon=\"small\",\n",
    ")"
   ]
  },
  {
   "cell_type": "markdown",
   "metadata": {},
   "source": [
    "- 直接用，细胞类型重叠"
   ]
  },
  {
   "cell_type": "code",
   "execution_count": null,
   "metadata": {},
   "outputs": [],
   "source": [
    "cnmf_obj.get_results_rfc(\n",
    "    adata, result_dict, use_rep=\"scaled|original|X_pca\", cNMF_threshold=0.5\n",
    ")"
   ]
  },
  {
   "cell_type": "code",
   "execution_count": null,
   "metadata": {},
   "outputs": [],
   "source": [
    "ov.pl.embedding(\n",
    "    adata,\n",
    "    basis=\"X_umap\",\n",
    "    color=[\"cNMF_cluster_rfc\", \"cNMF_cluster_clf\"],\n",
    "    frameon=\"small\",\n",
    "    # title=\"Celltypes\",\n",
    "    # legend_loc='on data',\n",
    "    legend_fontsize=14,\n",
    "    legend_fontoutline=2,\n",
    "    # size=10,\n",
    "    # legend_loc=True,\n",
    "    add_outline=False,\n",
    "    # add_outline=True,\n",
    "    outline_color=\"black\",\n",
    "    outline_width=1,\n",
    "    show=False,\n",
    ")"
   ]
  },
  {
   "cell_type": "code",
   "execution_count": 43,
   "metadata": {},
   "outputs": [],
   "source": [
    "plot_genes = []\n",
    "for i in result_dict[\"top_genes\"].columns:\n",
    "    plot_genes += result_dict[\"top_genes\"][i][:5].values.reshape(-1).tolist()"
   ]
  },
  {
   "cell_type": "code",
   "execution_count": 50,
   "metadata": {},
   "outputs": [],
   "source": [
    "adata.obs[\"cNMF_cluster\"] = adata.obs[\"cNMF_cluster_rfc\"].apply(lambda x: \"cNMF_\" + x)"
   ]
  },
  {
   "cell_type": "code",
   "execution_count": null,
   "metadata": {},
   "outputs": [],
   "source": [
    "ov.pl.embedding(\n",
    "    adata,\n",
    "    basis=\"X_umap\",\n",
    "    color=[\"cNMF_cluster\"],\n",
    "    frameon=\"small\",\n",
    "    # title=\"Celltypes\",\n",
    "    # legend_loc='on data',\n",
    "    legend_fontsize=14,\n",
    "    legend_fontoutline=2,\n",
    "    # size=10,\n",
    "    # legend_loc=True,\n",
    "    add_outline=False,\n",
    "    # add_outline=True,\n",
    "    outline_color=\"black\",\n",
    "    outline_width=1,\n",
    "    show=False,\n",
    "    save=\"-cNMF-聚类图.pdf\"\n",
    ")"
   ]
  },
  {
   "cell_type": "code",
   "execution_count": null,
   "metadata": {},
   "outputs": [],
   "source": [
    "sc.pl.dotplot(\n",
    "    adata,\n",
    "    plot_genes,\n",
    "    \"cNMF_cluster\",\n",
    "    dendrogram=False,\n",
    "    log=True,\n",
    "    standard_scale=\"var\",\n",
    ")"
   ]
  },
  {
   "cell_type": "code",
   "execution_count": 52,
   "metadata": {},
   "outputs": [],
   "source": [
    "adata.write(\"sub_anndata_cnmf.h5ad\")"
   ]
  },
  {
   "cell_type": "code",
   "execution_count": 3,
   "metadata": {},
   "outputs": [],
   "source": [
    "adata = sc.read(\"sub_anndata_cnmf.h5ad\")"
   ]
  },
  {
   "cell_type": "code",
   "execution_count": null,
   "metadata": {},
   "outputs": [],
   "source": [
    "GROUP_BY = \"cNMF_cluster\"\n",
    "\n",
    "sc.tl.rank_genes_groups(\n",
    "    adata,\n",
    "    groupby=GROUP_BY,\n",
    "    method=\"t-test\",\n",
    "    # use_raw=True,\n",
    "    layer=\"lognorm\",\n",
    ")"
   ]
  },
  {
   "cell_type": "code",
   "execution_count": null,
   "metadata": {},
   "outputs": [],
   "source": [
    "sc.pl.rank_genes_groups(adata, ncols=4)"
   ]
  },
  {
   "cell_type": "code",
   "execution_count": null,
   "metadata": {},
   "outputs": [],
   "source": [
    "sc.pl.rank_genes_groups_dotplot(\n",
    "    adata,\n",
    "    n_genes=5,\n",
    "    # vmin=0,\n",
    "    # vmax=20,\n",
    "    save=\"-31-亚群分析-NMF-marker可视化-点图.pdf\",\n",
    ")"
   ]
  },
  {
   "cell_type": "code",
   "execution_count": null,
   "metadata": {},
   "outputs": [],
   "source": [
    "sc.pl.rank_genes_groups_matrixplot(\n",
    "    adata,\n",
    "    n_genes=5,\n",
    "    standard_scale=\"var\",\n",
    "    use_raw=False,\n",
    "    save=\"-31-亚群分析-NMF-marker可视化-热图.pdf\",\n",
    ")"
   ]
  },
  {
   "cell_type": "code",
   "execution_count": null,
   "metadata": {},
   "outputs": [],
   "source": [
    "sc.tl.filter_rank_genes_groups(\n",
    "    adata,\n",
    "    min_fold_change=1,  # 最小折叠变化阈值\n",
    "    min_in_group_fraction=0.25,  # 在组内的最小基因表达比例\n",
    "    max_out_group_fraction=0.5,  # 在组外的最大基因表达比例\n",
    "    key=\"rank_genes_groups\",  # 基因组数据的键\n",
    "    key_added=\"rank_genes_groups_filtered\",  # 过滤后的基因组数据的键\n",
    "    use_raw=False,\n",
    ")"
   ]
  },
  {
   "cell_type": "code",
   "execution_count": null,
   "metadata": {},
   "outputs": [],
   "source": [
    "sc.pl.rank_genes_groups_dotplot(\n",
    "    adata,\n",
    "    groupby=GROUP_BY,\n",
    "    standard_scale=\"var\",\n",
    "    n_genes=5,\n",
    "    key=\"rank_genes_groups_filtered\",\n",
    "    save = \"-31-亚群分析-NMF-marker可视化-点图-过滤.pdf\"\n",
    "    use_raw=False,\n",
    ")"
   ]
  },
  {
   "cell_type": "code",
   "execution_count": null,
   "metadata": {},
   "outputs": [],
   "source": [
    "sc.pl.rank_genes_groups_matrixplot(\n",
    "    adata,\n",
    "    n_genes=5,\n",
    "    standard_scale=\"var\",\n",
    "    key=\"rank_genes_groups_filtered\",\n",
    "    use_raw=False,\n",
    "    save = \"-31-亚群分析-NMF-marker可视化-热图-过滤.pdf\"\n",
    ")"
   ]
  },
  {
   "cell_type": "code",
   "execution_count": 11,
   "metadata": {},
   "outputs": [],
   "source": [
    "##  保存全部maker列表\n",
    "\n",
    "deg_table = sc.get.rank_genes_groups_df(\n",
    "    adata,\n",
    "    group=adata.obs[GROUP_BY].unique(),\n",
    "    key=\"rank_genes_groups\",\n",
    ")\n",
    "deg_table = deg_table.dropna(subset=[\"names\"])\n",
    "deg_table[:5]\n",
    "deg_table.to_csv(\"table/21-all_rank_genes.csv\", index=False)"
   ]
  },
  {
   "cell_type": "code",
   "execution_count": null,
   "metadata": {},
   "outputs": [],
   "source": [
    "##  保存全部maker列表-过滤后的\n",
    "\n",
    "deg_table = sc.get.rank_genes_groups_df(\n",
    "    adata,\n",
    "    group=adata.obs[GROUP_BY].unique(),\n",
    "    key=\"rank_genes_groups_filtered\",\n",
    ")\n",
    "deg_table = deg_table.dropna(subset=[\"names\"])\n",
    "deg_table.to_csv(\"table/21-all_rank_genes_groups_filtered.csv\", index=False)\n",
    "deg_table[:5]"
   ]
  },
  {
   "cell_type": "markdown",
   "metadata": {},
   "source": [
    "## 看看在那个亚群咋们的bulkgene最牛\n"
   ]
  },
  {
   "cell_type": "code",
   "execution_count": null,
   "metadata": {},
   "outputs": [],
   "source": [
    "mu_gene = [\"Fez2\", \"Fez1\", \"Atp2a2\", \"Atp6v1a\", \"Gabarap\", \"Kdr\"]\n",
    "\n",
    "sc.pl.tracksplot(\n",
    "    # adata[adata.obs[\"group\"] == \"Disorder\"],\n",
    "    adata,\n",
    "    mu_gene,\n",
    "    groupby=\"cNMF_cluster\",\n",
    "    # dendrogram = True,\n",
    "    save=\"-26-BULK-gene可视化-亚群表达线热图.pdf\",\n",
    "    figsize=(15, 5),\n",
    ")"
   ]
  },
  {
   "cell_type": "markdown",
   "metadata": {},
   "source": [
    "## 免疫因子富集分析"
   ]
  },
  {
   "cell_type": "code",
   "execution_count": null,
   "metadata": {},
   "outputs": [],
   "source": [
    "import pandas as pd\n",
    "\n",
    "sheet_dict = pd.read_excel(\n",
    "    \"../data/极化分析/41586_2023_6816_MOESM5_ESM.xlsx\", sheet_name=None\n",
    ")\n",
    "cytokine_responses = pd.concat(sheet_dict.values()).reset_index(drop=True)\n",
    "\n",
    "cytokine_responses_cell = \"Macrophage\"\n",
    "\n",
    "celltype_response = cytokine_responses.query(\n",
    "    f\"Celltype_Str == '{cytokine_responses_cell}'\"\n",
    ").copy()\n",
    "\n",
    "celltype_response[\"Gene\"] = celltype_response[\"Gene\"].map(lambda s: [s])\n",
    "response_sets = celltype_response.groupby([\"Cytokine\"])[\"Gene\"].sum().to_dict()\n",
    "print(response_sets)"
   ]
  },
  {
   "cell_type": "code",
   "execution_count": null,
   "metadata": {},
   "outputs": [],
   "source": [
    "SUB_TYPE = \"cNMF_6\"\n",
    "rank_gene = deg_table.loc[deg_table[GROUP_COL] == SUB_TYPE, :].iloc[:, 1:3]\n",
    "rank_gene.columns = [\"gene_name\",\"rnk\"]\n",
    "rank_gene.head()"
   ]
  },
  {
   "cell_type": "code",
   "execution_count": 138,
   "metadata": {},
   "outputs": [],
   "source": [
    "gsea_obj = ov.bulk.pyGSEA(rank_gene, response_sets, cutoff=1,outdir=f\"./enrichr_gsea-{SUB_TYPE}\")"
   ]
  },
  {
   "cell_type": "code",
   "execution_count": null,
   "metadata": {},
   "outputs": [],
   "source": [
    "response_sets.keys()"
   ]
  },
  {
   "cell_type": "code",
   "execution_count": 140,
   "metadata": {},
   "outputs": [],
   "source": [
    "rank_gene[\"rnk\"] = rank_gene[\"rnk\"].astype(float)"
   ]
  },
  {
   "cell_type": "code",
   "execution_count": null,
   "metadata": {},
   "outputs": [],
   "source": [
    "enrich_res = gsea_obj.enrichment()"
   ]
  },
  {
   "cell_type": "code",
   "execution_count": null,
   "metadata": {},
   "outputs": [],
   "source": [
    "import pandas as pd\n",
    "\n",
    "res_2d = pd.read_csv(f\"./enrichr_gsea-{SUB_TYPE}/gseapy.gene_set.prerank.report.csv\")\n",
    "res_2d"
   ]
  },
  {
   "cell_type": "code",
   "execution_count": 143,
   "metadata": {},
   "outputs": [],
   "source": [
    "import networkx as nx\n",
    "import gseapy as gp"
   ]
  },
  {
   "cell_type": "code",
   "execution_count": null,
   "metadata": {},
   "outputs": [],
   "source": [
    "nodes, edges = gp.enrichment_map(res_2d)  # 默认按照Adjusted P-value过滤0.05"
   ]
  },
  {
   "cell_type": "code",
   "execution_count": null,
   "metadata": {},
   "outputs": [],
   "source": [
    "G = nx.from_pandas_edgelist(\n",
    "    edges,\n",
    "    source=\"src_idx\",\n",
    "    target=\"targ_idx\",\n",
    "    edge_attr=[\"jaccard_coef\", \"overlap_coef\", \"overlap_genes\"],\n",
    ")\n",
    "\n",
    "# Add missing node if there is any\n",
    "for node in nodes.index:\n",
    "    if node not in G.nodes():\n",
    "        G.add_node(node)"
   ]
  },
  {
   "cell_type": "code",
   "execution_count": null,
   "metadata": {},
   "outputs": [],
   "source": [
    "import matplotlib.pyplot as plt\n",
    "fig, ax = plt.subplots(figsize=(8, 8))\n",
    "\n",
    "# init node cooridnates\n",
    "pos = nx.layout.spiral_layout(G)\n",
    "# pos = nx.layout.spring_layout(G, seed=42)\n",
    "# node_size = nx.get_node_attributes()\n",
    "# draw node\n",
    "nx.draw_networkx_nodes(\n",
    "    G,\n",
    "    pos=pos,\n",
    "    cmap=plt.cm.RdYlBu,\n",
    "    node_color=list(nodes.NES),\n",
    "    node_size=list(nodes.Hits_ratio * 1000),\n",
    "    alpha=0.5,\n",
    ")\n",
    "# draw node label\n",
    "nx.draw_networkx_labels(G, pos=pos, labels=nodes.Term.to_dict())\n",
    "# draw edge\n",
    "edge_weight = nx.get_edge_attributes(G, \"jaccard_coef\").values()\n",
    "nx.draw_networkx_edges(\n",
    "    G, pos=pos, width=list(map(lambda x: x * 10, edge_weight)), edge_color=\"green\",alpha=0.2\n",
    ")\n",
    "# 去掉坐标轴\n",
    "plt.axis(\"off\")\n",
    "plt.savefig(f\"./figures/31-亚群分析-NMF-免疫GSEA富集分析-网络图-{SUB_TYPE}.pdf\")\n",
    "plt.show()"
   ]
  }
 ],
 "metadata": {
  "kernelspec": {
   "display_name": "pertpy-env",
   "language": "python",
   "name": "python3"
  },
  "language_info": {
   "codemirror_mode": {
    "name": "ipython",
    "version": 3
   },
   "file_extension": ".py",
   "mimetype": "text/x-python",
   "name": "python",
   "nbconvert_exporter": "python",
   "pygments_lexer": "ipython3",
   "version": "3.11.9"
  }
 },
 "nbformat": 4,
 "nbformat_minor": 2
}
