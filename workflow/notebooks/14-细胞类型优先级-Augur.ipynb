{
 "cells": [
  {
   "cell_type": "markdown",
   "id": "566180b8-f50a-45e5-8149-19af8f5a2e25",
   "metadata": {},
   "source": [
    "# %% [markdown]\n",
    "\n",
    " # Augur || 寻找最先对实验条件做出响应的细胞亚群、基因"
   ]
  },
  {
   "cell_type": "code",
   "execution_count": null,
   "id": "8aae41f1-0053-4722-993e-a12d80789c1f",
   "metadata": {},
   "outputs": [],
   "source": [
    "# %%\n",
    "\n",
    "import warnings\n",
    "\n",
    "warnings.filterwarnings(\"ignore\")\n",
    "warnings.simplefilter(\"ignore\")\n",
    "\n",
    "import os\n",
    "\n",
    "os.environ[\"PYTHONWARNINGS\"] = \"ignore\""
   ]
  },
  {
   "cell_type": "code",
   "execution_count": null,
   "id": "c379caa2-8c7e-41a3-a32a-de332f7fbe0a",
   "metadata": {},
   "outputs": [],
   "source": [
    "# %%\n",
    "\n",
    "# 设置参数\n",
    "import matplotlib as mpl\n",
    "import pertpy as pt\n",
    "import scanpy as sc\n",
    "\n",
    "# 设置matplotlib参数\n",
    "mpl.rcParams[\"pdf.fonttype\"] = 42  # 保留字体\n",
    "\n",
    "# 设置scanpy参数\n",
    "sc.settings.verbosity = 0  # 4 输出细节\n",
    "sc.settings.n_jobs = -1  # 使用所有核心\n",
    "sc.settings.set_figure_params(\n",
    "    dpi=80,\n",
    "    dpi_save=600,\n",
    "    facecolor=\"white\",\n",
    "    frameon=False,  # 移除框架\n",
    ")"
   ]
  },
  {
   "cell_type": "code",
   "execution_count": null,
   "id": "4c2227d7-c7f7-4b44-96fd-573a92106d33",
   "metadata": {},
   "outputs": [],
   "source": [
    "# %%\n",
    "\n",
    "# 配置变量\n",
    "# 注释列名称\n",
    "ANNO_COL = \"celltypist_cell_label_fine\"\n",
    "\n",
    "# 输入文件路径\n",
    "INPUT_FILE = (\n",
    "    \"results/find_markers/anndata_find_markers_celltypist_harmony_celltypist.h5ad\"\n",
    ")\n",
    "\n",
    "# 条件列名称\n",
    "GROUP_COL = \"group\"  # 在原始数据中\n",
    "\n",
    "\n",
    "# 原始数据中的对照和处理条件标签\n",
    "CTRL_LABEL = \"CNL\"\n",
    "STIM_LABEL = \"CCL\"\n",
    "\n",
    "# 设置Augur参数\n",
    "SUBSAMPLE_SIZE = 50  # 子样本大小\n",
    "N_THREADS = 40  # 线程数量\n",
    "SELECT_VARIANCE_FEATURES = False  # 是否选择方差特征\n",
    "SPAN = 0.75  # 平滑因子，1表示不平滑\n",
    "KEY_ADDED = \"augurpy_results\"  # 结果存储的键名\n",
    "RANDOM_STATE = 123  # 随机种子\n",
    "\n",
    "# 输出文件名\n",
    "LOLLIPOP_FIG = \"figures/14-细胞类型优先级-Augur-1.pdf\"\n",
    "IMPORTANT_FEATURES_FIG = \"figures/14-细胞类型优先级-Augur-2.pdf\"\n",
    "AUGUR_ALL_CSV = \"./table/augur_all.csv\"\n",
    "AUGUR_SUMMARY_CSV = \"./table/augur_summary.csv\"\n",
    "FEATURE_IMPORTANCES_CSV = \"./table/augur_feature_importances.csv\"\n",
    "FEATURES_IMPORTANCES_CSV = \"./table/augur_topn_features_importances.csv\""
   ]
  },
  {
   "cell_type": "code",
   "execution_count": null,
   "id": "9588e1ac-1b23-4819-901d-fe86a3630d1a",
   "metadata": {},
   "outputs": [],
   "source": [
    "# %%\n",
    "\n",
    "# 读入数据\n",
    "adata = sc.read(\"../../results/anndata_annotation_harmony_celltypist.h5ad\")\n",
    "# 使用原始数据\n",
    "adata_raw = adata.raw.to_adata()\n",
    "adata_raw.obs = adata.obs\n",
    "adata = adata_raw"
   ]
  },
  {
   "cell_type": "code",
   "execution_count": null,
   "id": "a1a175db-9aa9-4320-8df7-154c9fd14247",
   "metadata": {},
   "outputs": [
    {
     "name": "stdout",
     "output_type": "stream",
     "text": [
      "条件标签： ['CCL', 'CNL']\n",
      "Categories (2, object): ['CCL', 'CNL']\n"
     ]
    }
   ],
   "source": [
    "# %%\n",
    "\n",
    "# 打印条件标签以确认\n",
    "print(\"条件标签：\", adata.obs[GROUP_COL].unique())"
   ]
  },
  {
   "cell_type": "code",
   "execution_count": null,
   "id": "20ed3323-7478-47eb-9d95-cfed678fa870",
   "metadata": {},
   "outputs": [
    {
     "name": "stdout",
     "output_type": "stream",
     "text": [
      "group  celltypist_cell_label_fine\n",
      "CCL    T cells                       15208\n",
      "       Plasma cells                  13504\n",
      "       Macrophages                    3238\n",
      "       B cells                        2352\n",
      "       Mast cells                      803\n",
      "       Monocytes                       460\n",
      "       ILC                             308\n",
      "       DC                              208\n",
      "       pDC                             151\n",
      "CNL    Plasma cells                  18803\n",
      "       T cells                        5061\n",
      "       B cells                        2697\n",
      "       Mast cells                      777\n",
      "       Macrophages                     392\n",
      "       ILC                             183\n",
      "       Monocytes                       115\n",
      "       pDC                              59\n",
      "       DC                               35\n",
      "Name: count, dtype: int64\n"
     ]
    }
   ],
   "source": [
    "# %%\n",
    "\n",
    "# 统计每个条件下的细胞类型计数\n",
    "print(adata.obs.groupby(GROUP_COL)[ANNO_COL].value_counts())"
   ]
  },
  {
   "cell_type": "code",
   "execution_count": null,
   "id": "f74436a9-077d-4d09-8df9-b0f06bf09962",
   "metadata": {},
   "outputs": [],
   "source": [
    "# %%\n",
    "\n",
    "# 创建Augur实例\n",
    "ag_rfc = pt.tl.Augur(\"random_forest_classifier\")"
   ]
  },
  {
   "cell_type": "code",
   "execution_count": null,
   "id": "5c7e577f-a1e7-4532-8cc5-4902a4f3311e",
   "metadata": {},
   "outputs": [
    {
     "name": "stdout",
     "output_type": "stream",
     "text": [
      "\u001b[94m•\u001b[0m Filtering samples with CNL and CCL labels.\n",
      "AnnData object with n_obs × n_vars = 64354 × 17065\n",
      "    obs: 'C0', 'orig.ident', 'nCount_RNA', 'nFeature_RNA', 'nCount_antibody', 'nFeature_antibody', 'patients', 'sampletag', 'organs', 'percent.mt', 'percent.ribo', 'log10GenesPerUMI', 'batch', 'integrated_snn_res.0.5', 'seurat_clusters', 'samples', 'doublet.score', 'predicted.doublet', 'cluster', 'doublet', 'patients_organ', 'sample', 'label', 'n_genes_by_counts', 'log1p_n_genes_by_counts', 'total_counts', 'log1p_total_counts', 'pct_counts_in_top_20_genes', 'pct_counts_in_top_50_genes', 'pct_counts_in_top_100_genes', 'pct_counts_in_top_200_genes', 'pct_counts_in_top_500_genes', 'total_counts_mt', 'log1p_total_counts_mt', 'pct_counts_mt', 'total_counts_ribo', 'log1p_total_counts_ribo', 'pct_counts_ribo', 'total_counts_hb', 'log1p_total_counts_hb', 'pct_counts_hb', 'n_genes', 'outlier', 'mt_outlier', 'discard', 'doublet_score', 'predicted_doublet', 'leiden', 'leiden_0_25', 'leiden_0_5', 'leiden_1', 'leiden_2', 'cell_type', 'celltypist_conf_score_fine', 'celltypist', 'y_'\n",
      "    obsm: 'X_pca', 'X_pca_harmony', 'X_tsne', 'X_umap'\n"
     ]
    }
   ],
   "source": [
    "# %%\n",
    "\n",
    "# 加载数据到Augur所需的格式\n",
    "loaded_data = ag_rfc.load(\n",
    "    adata,\n",
    "    label_col=GROUP_COL,\n",
    "    cell_type_col=ANNO_COL,\n",
    "    condition_label=CTRL_LABEL,\n",
    "    treatment_label=STIM_LABEL,\n",
    ")\n",
    "print(loaded_data)"
   ]
  },
  {
   "cell_type": "code",
   "execution_count": null,
   "id": "0526e98e-5829-4d83-b5f1-cff150d734f5",
   "metadata": {},
   "outputs": [
    {
     "data": {
      "application/vnd.jupyter.widget-view+json": {
       "model_id": "20645273fe354d368dc186cfcd300a50",
       "version_major": 2,
       "version_minor": 0
      },
      "text/plain": [
       "Output()"
      ]
     },
     "metadata": {},
     "output_type": "display_data"
    },
    {
     "name": "stdout",
     "output_type": "stream",
     "text": [
      "\u001b[93m!\u001b[0m Data not normalized. Normalizing now using scanpy log1p normalize.\n"
     ]
    },
    {
     "name": "stdout",
     "output_type": "stream",
     "text": [
      "\u001b[93m!\u001b[0m Data not normalized. Normalizing now using scanpy log1p normalize.\n"
     ]
    },
    {
     "name": "stdout",
     "output_type": "stream",
     "text": [
      "\u001b[93m!\u001b[0m Data not normalized. Normalizing now using scanpy log1p normalize.\n"
     ]
    },
    {
     "name": "stdout",
     "output_type": "stream",
     "text": [
      "\u001b[93m!\u001b[0m Data not normalized. Normalizing now using scanpy log1p normalize.\n"
     ]
    },
    {
     "name": "stdout",
     "output_type": "stream",
     "text": [
      "\u001b[93m!\u001b[0m Skipping DC cell type - the number of samples for at least one class type is less than subsample size 50.\n"
     ]
    },
    {
     "name": "stdout",
     "output_type": "stream",
     "text": [
      "\u001b[93m!\u001b[0m Data not normalized. Normalizing now using scanpy log1p normalize.\n"
     ]
    },
    {
     "name": "stdout",
     "output_type": "stream",
     "text": [
      "\u001b[93m!\u001b[0m Data not normalized. Normalizing now using scanpy log1p normalize.\n"
     ]
    },
    {
     "data": {
      "text/html": [
       "<pre style=\"white-space:pre;overflow-x:auto;line-height:normal;font-family:Menlo,'DejaVu Sans Mono',consolas,'Courier New',monospace\"></pre>\n"
      ],
      "text/plain": []
     },
     "metadata": {},
     "output_type": "display_data"
    }
   ],
   "source": [
    "# %%\n",
    "\n",
    "# 运行Augur预测\n",
    "v_adata, v_results = ag_rfc.predict(\n",
    "    loaded_data,\n",
    "    subsample_size=SUBSAMPLE_SIZE,\n",
    "    n_threads=N_THREADS,\n",
    "    select_variance_features=SELECT_VARIANCE_FEATURES,\n",
    "    span=SPAN,\n",
    "    key_added=KEY_ADDED,\n",
    "    random_state=RANDOM_STATE,\n",
    ")"
   ]
  },
  {
   "cell_type": "code",
   "execution_count": null,
   "id": "11c3faf4-acf3-437b-9779-86b82c2807cc",
   "metadata": {},
   "outputs": [
    {
     "ename": "FileNotFoundError",
     "evalue": "[Errno 2] No such file or directory: 'figures/14-细胞类型优先级-Augur-1.pdf'",
     "output_type": "error",
     "traceback": [
      "\u001b[0;31m---------------------------------------------------------------------------\u001b[0m",
      "\u001b[0;31mFileNotFoundError\u001b[0m                         Traceback (most recent call last)",
      "File \u001b[1;32m/home/fanxi/projects/snakemake/snakemake-single-cell/workflow/scripts/single_cell_10_augur.py:11\u001b[0m\n\u001b[1;32m      8\u001b[0m lollipop\u001b[39m.\u001b[39mset_size_inches(\u001b[39m8\u001b[39m, \u001b[39m5\u001b[39m)  \u001b[39m# 设置图像尺寸\u001b[39;00m\n\u001b[1;32m     10\u001b[0m \u001b[39m# 保存图像\u001b[39;00m\n\u001b[0;32m---> 11\u001b[0m lollipop\u001b[39m.\u001b[39;49msavefig(LOLLIPOP_FIG, dpi\u001b[39m=\u001b[39;49m\u001b[39m300\u001b[39;49m, bbox_inches\u001b[39m=\u001b[39;49m\u001b[39m\"\u001b[39;49m\u001b[39mtight\u001b[39;49m\u001b[39m\"\u001b[39;49m)\n",
      "File \u001b[0;32m~/miniconda3/envs/pertpy-env/lib/python3.11/site-packages/matplotlib/figure.py:3395\u001b[0m, in \u001b[0;36mFigure.savefig\u001b[0;34m(self, fname, transparent, **kwargs)\u001b[0m\n\u001b[1;32m   3393\u001b[0m     \u001b[39mfor\u001b[39;00m ax \u001b[39min\u001b[39;00m \u001b[39mself\u001b[39m\u001b[39m.\u001b[39maxes:\n\u001b[1;32m   3394\u001b[0m         _recursively_make_axes_transparent(stack, ax)\n\u001b[0;32m-> 3395\u001b[0m \u001b[39mself\u001b[39;49m\u001b[39m.\u001b[39;49mcanvas\u001b[39m.\u001b[39;49mprint_figure(fname, \u001b[39m*\u001b[39;49m\u001b[39m*\u001b[39;49mkwargs)\n",
      "File \u001b[0;32m~/miniconda3/envs/pertpy-env/lib/python3.11/site-packages/matplotlib/backend_bases.py:2204\u001b[0m, in \u001b[0;36mFigureCanvasBase.print_figure\u001b[0;34m(self, filename, dpi, facecolor, edgecolor, orientation, format, bbox_inches, pad_inches, bbox_extra_artists, backend, **kwargs)\u001b[0m\n\u001b[1;32m   2200\u001b[0m \u001b[39mtry\u001b[39;00m:\n\u001b[1;32m   2201\u001b[0m     \u001b[39m# _get_renderer may change the figure dpi (as vector formats\u001b[39;00m\n\u001b[1;32m   2202\u001b[0m     \u001b[39m# force the figure dpi to 72), so we need to set it again here.\u001b[39;00m\n\u001b[1;32m   2203\u001b[0m     \u001b[39mwith\u001b[39;00m cbook\u001b[39m.\u001b[39m_setattr_cm(\u001b[39mself\u001b[39m\u001b[39m.\u001b[39mfigure, dpi\u001b[39m=\u001b[39mdpi):\n\u001b[0;32m-> 2204\u001b[0m         result \u001b[39m=\u001b[39m print_method(\n\u001b[1;32m   2205\u001b[0m             filename,\n\u001b[1;32m   2206\u001b[0m             facecolor\u001b[39m=\u001b[39;49mfacecolor,\n\u001b[1;32m   2207\u001b[0m             edgecolor\u001b[39m=\u001b[39;49medgecolor,\n\u001b[1;32m   2208\u001b[0m             orientation\u001b[39m=\u001b[39;49morientation,\n\u001b[1;32m   2209\u001b[0m             bbox_inches_restore\u001b[39m=\u001b[39;49m_bbox_inches_restore,\n\u001b[1;32m   2210\u001b[0m             \u001b[39m*\u001b[39;49m\u001b[39m*\u001b[39;49mkwargs)\n\u001b[1;32m   2211\u001b[0m \u001b[39mfinally\u001b[39;00m:\n\u001b[1;32m   2212\u001b[0m     \u001b[39mif\u001b[39;00m bbox_inches \u001b[39mand\u001b[39;00m restore_bbox:\n",
      "File \u001b[0;32m~/miniconda3/envs/pertpy-env/lib/python3.11/site-packages/matplotlib/backend_bases.py:2054\u001b[0m, in \u001b[0;36mFigureCanvasBase._switch_canvas_and_return_print_method.<locals>.<lambda>\u001b[0;34m(*args, **kwargs)\u001b[0m\n\u001b[1;32m   2050\u001b[0m     optional_kws \u001b[39m=\u001b[39m {  \u001b[39m# Passed by print_figure for other renderers.\u001b[39;00m\n\u001b[1;32m   2051\u001b[0m         \u001b[39m\"\u001b[39m\u001b[39mdpi\u001b[39m\u001b[39m\"\u001b[39m, \u001b[39m\"\u001b[39m\u001b[39mfacecolor\u001b[39m\u001b[39m\"\u001b[39m, \u001b[39m\"\u001b[39m\u001b[39medgecolor\u001b[39m\u001b[39m\"\u001b[39m, \u001b[39m\"\u001b[39m\u001b[39morientation\u001b[39m\u001b[39m\"\u001b[39m,\n\u001b[1;32m   2052\u001b[0m         \u001b[39m\"\u001b[39m\u001b[39mbbox_inches_restore\u001b[39m\u001b[39m\"\u001b[39m}\n\u001b[1;32m   2053\u001b[0m     skip \u001b[39m=\u001b[39m optional_kws \u001b[39m-\u001b[39m {\u001b[39m*\u001b[39minspect\u001b[39m.\u001b[39msignature(meth)\u001b[39m.\u001b[39mparameters}\n\u001b[0;32m-> 2054\u001b[0m     print_method \u001b[39m=\u001b[39m functools\u001b[39m.\u001b[39mwraps(meth)(\u001b[39mlambda\u001b[39;00m \u001b[39m*\u001b[39margs, \u001b[39m*\u001b[39m\u001b[39m*\u001b[39mkwargs: meth(\n\u001b[1;32m   2055\u001b[0m         \u001b[39m*\u001b[39;49margs, \u001b[39m*\u001b[39;49m\u001b[39m*\u001b[39;49m{k: v \u001b[39mfor\u001b[39;49;00m k, v \u001b[39min\u001b[39;49;00m kwargs\u001b[39m.\u001b[39;49mitems() \u001b[39mif\u001b[39;49;00m k \u001b[39mnot\u001b[39;49;00m \u001b[39min\u001b[39;49;00m skip}))\n\u001b[1;32m   2056\u001b[0m \u001b[39melse\u001b[39;00m:  \u001b[39m# Let third-parties do as they see fit.\u001b[39;00m\n\u001b[1;32m   2057\u001b[0m     print_method \u001b[39m=\u001b[39m meth\n",
      "File \u001b[0;32m~/miniconda3/envs/pertpy-env/lib/python3.11/site-packages/matplotlib/backends/backend_pdf.py:2792\u001b[0m, in \u001b[0;36mFigureCanvasPdf.print_pdf\u001b[0;34m(self, filename, bbox_inches_restore, metadata)\u001b[0m\n\u001b[1;32m   2790\u001b[0m     file \u001b[39m=\u001b[39m filename\u001b[39m.\u001b[39m_ensure_file()\n\u001b[1;32m   2791\u001b[0m \u001b[39melse\u001b[39;00m:\n\u001b[0;32m-> 2792\u001b[0m     file \u001b[39m=\u001b[39m PdfFile(filename, metadata\u001b[39m=\u001b[39;49mmetadata)\n\u001b[1;32m   2793\u001b[0m \u001b[39mtry\u001b[39;00m:\n\u001b[1;32m   2794\u001b[0m     file\u001b[39m.\u001b[39mnewPage(width, height)\n",
      "File \u001b[0;32m~/miniconda3/envs/pertpy-env/lib/python3.11/site-packages/matplotlib/backends/backend_pdf.py:688\u001b[0m, in \u001b[0;36mPdfFile.__init__\u001b[0;34m(self, filename, metadata)\u001b[0m\n\u001b[1;32m    686\u001b[0m \u001b[39mself\u001b[39m\u001b[39m.\u001b[39moriginal_file_like \u001b[39m=\u001b[39m \u001b[39mNone\u001b[39;00m\n\u001b[1;32m    687\u001b[0m \u001b[39mself\u001b[39m\u001b[39m.\u001b[39mtell_base \u001b[39m=\u001b[39m \u001b[39m0\u001b[39m\n\u001b[0;32m--> 688\u001b[0m fh, opened \u001b[39m=\u001b[39m cbook\u001b[39m.\u001b[39;49mto_filehandle(filename, \u001b[39m\"\u001b[39;49m\u001b[39mwb\u001b[39;49m\u001b[39m\"\u001b[39;49m, return_opened\u001b[39m=\u001b[39;49m\u001b[39mTrue\u001b[39;49;00m)\n\u001b[1;32m    689\u001b[0m \u001b[39mif\u001b[39;00m \u001b[39mnot\u001b[39;00m opened:\n\u001b[1;32m    690\u001b[0m     \u001b[39mtry\u001b[39;00m:\n",
      "File \u001b[0;32m~/miniconda3/envs/pertpy-env/lib/python3.11/site-packages/matplotlib/cbook.py:483\u001b[0m, in \u001b[0;36mto_filehandle\u001b[0;34m(fname, flag, return_opened, encoding)\u001b[0m\n\u001b[1;32m    481\u001b[0m         fh \u001b[39m=\u001b[39m bz2\u001b[39m.\u001b[39mBZ2File(fname, flag)\n\u001b[1;32m    482\u001b[0m     \u001b[39melse\u001b[39;00m:\n\u001b[0;32m--> 483\u001b[0m         fh \u001b[39m=\u001b[39m \u001b[39mopen\u001b[39;49m(fname, flag, encoding\u001b[39m=\u001b[39;49mencoding)\n\u001b[1;32m    484\u001b[0m     opened \u001b[39m=\u001b[39m \u001b[39mTrue\u001b[39;00m\n\u001b[1;32m    485\u001b[0m \u001b[39melif\u001b[39;00m \u001b[39mhasattr\u001b[39m(fname, \u001b[39m'\u001b[39m\u001b[39mseek\u001b[39m\u001b[39m'\u001b[39m):\n",
      "\u001b[0;31mFileNotFoundError\u001b[0m: [Errno 2] No such file or directory: 'figures/14-细胞类型优先级-Augur-1.pdf'"
     ]
    },
    {
     "data": {
      "image/png": "[encoded data removed]",
      "text/plain": [
       "<Figure size 640x400 with 1 Axes>"
      ]
     },
     "metadata": {
      "image/png": {
       "height": 361,
       "width": 646
      }
     },
     "output_type": "display_data"
    }
   ],
   "source": [
    "# %%\n",
    "\n",
    "# 绘制lollipop图\n",
    "lollipop = ag_rfc.plot_lollipop(\n",
    "    v_results,\n",
    "    key=KEY_ADDED,\n",
    "    return_fig=True,\n",
    ")\n",
    "lollipop.set_size_inches(8, 5)  # 设置图像尺寸\n",
    "\n",
    "# 保存图像\n",
    "lollipop.savefig(LOLLIPOP_FIG, dpi=300, bbox_inches=\"tight\")"
   ]
  },
  {
   "cell_type": "code",
   "execution_count": null,
   "id": "7e8741ae-6331-4614-9072-7926890f21cb",
   "metadata": {},
   "outputs": [
    {
     "ename": "",
     "evalue": "",
     "output_type": "error",
     "traceback": [
      "\u001b[1;31mCell was canceled due to an error in a previous cell."
     ]
    }
   ],
   "source": [
    "# %%\n",
    "\n",
    "# 保存结果到CSV文件\n",
    "v_results[\"full_results\"].to_csv(AUGUR_ALL_CSV, index=True)\n",
    "v_results[\"summary_metrics\"].to_csv(AUGUR_SUMMARY_CSV, index=True)"
   ]
  },
  {
   "cell_type": "code",
   "execution_count": null,
   "id": "10948fdd-3d9f-40fe-9234-c2ff0f1796b3",
   "metadata": {},
   "outputs": [
    {
     "ename": "",
     "evalue": "",
     "output_type": "error",
     "traceback": [
      "\u001b[1;31mCell was canceled due to an error in a previous cell."
     ]
    }
   ],
   "source": [
    "# %%\n",
    "\n",
    "# 计算UMAP并绘制Augur得分\n",
    "sc.pp.neighbors(v_adata, random_state=RANDOM_STATE)\n",
    "sc.tl.umap(v_adata, random_state=RANDOM_STATE)\n",
    "\n",
    "sc.pl.umap(\n",
    "    adata=v_adata,\n",
    "    color=[\"augur_score\"],\n",
    "    wspace=0.2,\n",
    "    save=\"_augur_score.pdf\",\n",
    "    ncols=2,\n",
    "    cmap=\"Reds\",\n",
    ")"
   ]
  },
  {
   "cell_type": "code",
   "execution_count": null,
   "id": "7f8484b2-c1c8-47ba-aca7-01df72811c99",
   "metadata": {},
   "outputs": [
    {
     "ename": "",
     "evalue": "",
     "output_type": "error",
     "traceback": [
      "\u001b[1;31mCell was canceled due to an error in a previous cell."
     ]
    }
   ],
   "source": [
    "# %%\n",
    "\n",
    "# 绘制重要特征图\n",
    "important_features = ag_rfc.plot_important_features(\n",
    "    v_results, top_n=10, return_fig=True\n",
    ")\n",
    "important_features.set_size_inches(8, 5)  # 设置图像尺寸\n",
    "\n",
    "# 保存图像\n",
    "important_features.savefig(IMPORTANT_FEATURES_FIG, dpi=300, bbox_inches=\"tight\")"
   ]
  },
  {
   "cell_type": "code",
   "execution_count": null,
   "id": "0ec0834e-f17f-4429-8f1c-ba24574fe42c",
   "metadata": {},
   "outputs": [
    {
     "ename": "",
     "evalue": "",
     "output_type": "error",
     "traceback": [
      "\u001b[1;31mCell was canceled due to an error in a previous cell."
     ]
    }
   ],
   "source": [
    "# %%\n",
    "\n",
    "# 保存重要特征到CSV文件\n",
    "v_results[\"feature_importances\"].to_csv(FEATURE_IMPORTANCES_CSV, index=True)"
   ]
  }
 ],
 "metadata": {
  "language_info": {
   "codemirror_mode": {
    "name": "ipython",
    "version": 3
   },
   "file_extension": ".py",
   "mimetype": "text/x-python",
   "name": "python",
   "nbconvert_exporter": "python",
   "pygments_lexer": "ipython3",
   "version": 3
  }
 },
 "nbformat": 4,
 "nbformat_minor": 2
}
