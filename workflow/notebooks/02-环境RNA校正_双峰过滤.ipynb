{
 "cells": [
  {
   "cell_type": "markdown",
   "metadata": {},
   "source": [
    "3.环境 RNA 校正（可选）\n",
    "\n",
    "- 3.1 准备环境\n",
    "- 3.2 创建副本、移位对数归一化\n",
    "- 3.3 邻域图、莱顿聚类\n",
    "- 3.4 准备数据传递给 R\n",
    "- 3.5 准备环境 RNA 校正所需的原始基因矩阵\n",
    "- 3.6 调用 R 环境中的 SoupX\n",
    "- 3.7 整合环境 RNA 校正结果\n",
    "- 3.8 基础过滤\n",
    "\n",
    "---\n",
    "\n",
    "SoupX 背景矫正\n",
    "\n",
    "- 可以在没有聚类信息的情况下运行出\n",
    "- 如果提供基本聚类结果会更好\n",
    "- SoupX 的结果对所使用的聚类类型并不强烈敏感。\n"
   ]
  },
  {
   "cell_type": "code",
   "execution_count": 1,
   "metadata": {},
   "outputs": [],
   "source": [
    "## 3.1 准备环境\n",
    "\n",
    "import scanpy as sc\n",
    "\n",
    "import rpy2\n",
    "\n",
    "# 设置参数\n",
    "sc.settings.verbosity = 4\n",
    "sc._settings.ScanpyConfig.n_jobs = -1\n",
    "sc.settings.set_figure_params(\n",
    "    dpi=80,\n",
    "    dpi_save=600,\n",
    "    facecolor=\"white\",\n",
    "    frameon=False,  # remove frame\n",
    ")\n",
    "\n",
    "%load_ext rpy2.ipython "
   ]
  },
  {
   "cell_type": "code",
   "execution_count": 4,
   "metadata": {},
   "outputs": [
    {
     "name": "stdout",
     "output_type": "stream",
     "text": [
      "normalizing by total count per cell\n",
      "    finished (0:00:00): normalized adata.X and added    'n_counts', counts per cell before normalization (adata.obs)\n"
     ]
    }
   ],
   "source": [
    "## 3.2 读取数据、创建副本、移位对数归一化\n",
    "adata = sc.read_h5ad(\"anndata_qc.h5ad\")\n",
    "adata_soup = adata.copy()  # backup\n",
    "sc.pp.normalize_per_cell(adata_soup)\n",
    "sc.pp.log1p(adata_soup)"
   ]
  },
  {
   "cell_type": "code",
   "execution_count": 5,
   "metadata": {},
   "outputs": [
    {
     "name": "stdout",
     "output_type": "stream",
     "text": [
      "computing PCA\n",
      "    with n_comps=50\n",
      "    finished (0:00:07)\n",
      "    and added\n",
      "    'X_pca', the PCA coordinates (adata.obs)\n",
      "    'PC1', 'PC2', ..., the loadings (adata.var)\n",
      "    'pca_variance', the variance / eigenvalues (adata.uns)\n",
      "    'pca_variance_ratio', the variance ratio (adata.uns)\n",
      "computing neighbors\n",
      "    computing neighbors\n",
      "    using 'X_pca' with n_pcs = 50\n",
      "    computed neighbors (0:00:18)\n",
      "    computed connectivities (0:00:02)\n",
      "    finished: added to `.uns['neighbors']`\n",
      "    `.obsp['distances']`, distances for each pair of neighbors\n",
      "    `.obsp['connectivities']`, weighted adjacency matrix (0:00:20)\n",
      "running Leiden clustering\n",
      "    finished: found 23 clusters and added\n",
      "    'soupx_groups', the cluster labels (adata.obs, categorical) (0:00:02)\n"
     ]
    }
   ],
   "source": [
    "## 3.3 邻域图、莱顿聚类\n",
    "\"\"\"\n",
    "    -soupx可以不聚类,聚类后效果更好\n",
    "\"\"\"\n",
    "sc.pp.pca(adata_soup, random_state=123)  # add obsm\n",
    "sc.pp.neighbors(adata_soup, random_state=123)  # add varm\n",
    "sc.tl.leiden(adata_soup, key_added=\"soupx_groups\", random_state=123)  # add obs\n",
    "\n",
    "# Preprocess variables for SoupX\n",
    "soupx_groups = adata_soup.obs[\"soupx_groups\"]\n",
    "del adata_soup"
   ]
  },
  {
   "cell_type": "code",
   "execution_count": 6,
   "metadata": {},
   "outputs": [],
   "source": [
    "## 3.4 准备数据传递给R\n",
    "cells = adata.obs_names\n",
    "genes = adata.var_names\n",
    "data = adata.X.T"
   ]
  },
  {
   "cell_type": "code",
   "execution_count": 8,
   "metadata": {},
   "outputs": [],
   "source": [
    "## 3.5 准备环境RNA校正所需的原始基因矩阵\n",
    "## ：是原始矩阵在cellranger的输出中三合一\n",
    "adata_raw = sc.read_h5ad(\"./anndata_raw.h5ad\")\n",
    "adata_raw.var_names_make_unique()\n",
    "data_tod = adata_raw.X.T\n",
    "\n",
    "batch = adata.obs[\"batch\"]  # 多批次\n",
    "batch_tod = adata_raw.obs[\"batch\"]  # 多批次\n",
    "del adata_raw"
   ]
  },
  {
   "cell_type": "code",
   "execution_count": 9,
   "metadata": {},
   "outputs": [],
   "source": [
    "# %%R -i data -i data_tod -i genes -i cells -i soupx_groups -o out\n",
    "# ## 3.6 调用R环境中的SoupX\n",
    "# library(SoupX)\n",
    "# # specify row and column names of data\n",
    "# rownames(data) = genes\n",
    "# colnames(data) = cells\n",
    "# # ensure correct sparse format for table of counts and table of droplets\n",
    "# data <- as(data, \"sparseMatrix\")\n",
    "# data_tod <- as(data_tod, \"sparseMatrix\")\n",
    "\n",
    "# # Generate SoupChannel Object for SoupX\n",
    "# sc = SoupChannel(data_tod, data, calcSoupProfile = FALSE)\n",
    "\n",
    "# # Add extra meta data to the SoupChannel object\n",
    "# soupProf = data.frame(row.names = rownames(data), est = rowSums(data)/sum(data), counts = rowSums(data))\n",
    "# sc = setSoupProfile(sc, soupProf)\n",
    "# # Set cluster information in SoupChannel\n",
    "# sc = setClusters(sc, soupx_groups)\n",
    "\n",
    "# # Estimate contamination fraction\n",
    "# sc  = autoEstCont(sc, doPlot=FALSE)\n",
    "# # Infer corrected table of counts and rount to integer\n",
    "# out = adjustCounts(sc, roundToInt = TRUE)"
   ]
  },
  {
   "cell_type": "code",
   "execution_count": null,
   "metadata": {},
   "outputs": [],
   "source": [
    "%%R -i data -i data_tod -i genes -i cells -i soupx_groups -i batch -i batch_tod -o out\n",
    "library(SoupX)\n",
    "library(Matrix)\n",
    "\n",
    "# 初始化一个列表来存储每个批次的输出结果\n",
    "out_list <- list()\n",
    "\n",
    "# 确保数据是以稀疏矩阵的形式存储\n",
    "data <- as(data, \"sparseMatrix\")\n",
    "data_tod <- as(data_tod, \"sparseMatrix\")\n",
    "\n",
    "rownames(data) = genes\n",
    "colnames(data) = cells\n",
    "\n",
    "# 获取唯一的批次名\n",
    "unique_batches <- unique(c(batch, batch_tod))\n",
    "\n",
    "\n",
    "# 为每个批次运行SoupX分析\n",
    "for(b in unique_batches) {\n",
    "  cat(\"Processing batch:\", b, \"\\n\")\n",
    "  \n",
    "  # 选取当前批次的数据\n",
    "  batch_cells <- cells[batch == b]\n",
    "  batch_data <- data[, batch_cells]\n",
    "  \n",
    "  batch_data_tod <- data_tod[, batch == b]\n",
    "  \n",
    "  batch_soupx_groups <- soupx_groups[batch == b]\n",
    "  \n",
    "\n",
    "  # 生成SoupChannel对象\n",
    "  sc = SoupChannel(batch_data_tod, batch_data, calcSoupProfile = FALSE)\n",
    "  \n",
    "  # 添加额外的元数据\n",
    "  soupProf = data.frame(row.names = genes, est = rowSums(batch_data)/sum(batch_data), counts = rowSums(batch_data))\n",
    "  sc = setSoupProfile(sc, soupProf)\n",
    "  \n",
    "  # 设置群集信息\n",
    "  sc = setClusters(sc, batch_soupx_groups)\n",
    "  \n",
    "  # 估计污染分数\n",
    "  sc = autoEstCont(\n",
    "    sc,\n",
    "    doPlot=FALSE,\n",
    "    soupQuantile=0.5,\n",
    "    \n",
    "    forceAccept=TRUE\n",
    "  ) # TODO,报错时根据提示缩小\n",
    "  \n",
    "  # 计算校正后的计数表格并四舍五入为整数\n",
    "  out = adjustCounts(sc, roundToInt = TRUE)\n",
    "  \n",
    "  # 将结果保存到列表中\n",
    "  out_list[[as.character(b)]] <- list(data = out, batch = b)\n",
    "}\n",
    "\n",
    "## 准备合并\n",
    "data_list = lapply(out_list, function(x) x$data)\n",
    "\n",
    "# 检查所有数据的维度，确保他们可以被cbind合并\n",
    "dims = lapply(data_list, dim)\n",
    "print(dims)\n",
    "# 如果所有数据的行数相同，可以使用do.call和cbind进行合并\n",
    "if(length(unique(sapply(dims, `[`, 1))) == 1) {\n",
    "  out = do.call(cbind, data_list)\n",
    "} else {\n",
    "  warning(\"Not all batches have the same number of rows, can't bind them together.\")\n",
    "}"
   ]
  },
  {
   "cell_type": "code",
   "execution_count": null,
   "metadata": {},
   "outputs": [],
   "source": [
    "## 3.7 整合环境RNA校正结果\n",
    "adata.layers[\"counts\"] = adata.X\n",
    "adata.layers[\"soupX_counts\"] = out.T\n",
    "adata.X = adata.layers[\"soupX_counts\"]\n",
    "# 查看均值\n",
    "print(adata.layers[\"counts\"].mean())\n",
    "print(adata.layers[\"soupX_counts\"].mean())"
   ]
  },
  {
   "cell_type": "code",
   "execution_count": null,
   "metadata": {},
   "outputs": [],
   "source": [
    "## 3.8 soupx绘图\n",
    "import seaborn as sns\n",
    "import matplotlib.pyplot as plt\n",
    "import pandas as pd\n",
    "\n",
    "# 创建adata的一个副本用于绘图\n",
    "adata_plot_soup = adata.copy()\n",
    "\n",
    "# 计算校正前后的总计数和基因数\n",
    "adata_plot_soup.obs[\"total_counts_before\"] = (\n",
    "    adata_plot_soup.layers[\"counts\"].sum(axis=1).A1\n",
    ")\n",
    "adata_plot_soup.obs[\"n_genes_by_counts_before\"] = (\n",
    "    (adata_plot_soup.layers[\"counts\"] > 0)\n",
    "    .sum(axis=1)\n",
    "    .A1  # .A1属性会将其转换为一个扁平的Numpy数组。\n",
    ")\n",
    "\n",
    "adata_plot_soup.obs[\"total_counts_after\"] = (\n",
    "    adata_plot_soup.layers[\"soupX_counts\"].sum(axis=1).A1\n",
    ")\n",
    "adata_plot_soup.obs[\"n_genes_by_counts_after\"] = (\n",
    "    (adata_plot_soup.layers[\"soupX_counts\"] > 0).sum(axis=1).A1\n",
    ")\n",
    "\n",
    "df = pd.DataFrame(\n",
    "    {\n",
    "        \"total_counts_before\": adata_plot_soup.obs[\"total_counts_before\"],\n",
    "        \"n_genes_by_counts_before\": adata_plot_soup.obs[\"n_genes_by_counts_before\"],\n",
    "        \"total_counts_after\": adata_plot_soup.obs[\"total_counts_after\"],\n",
    "        \"n_genes_by_counts_after\": adata_plot_soup.obs[\"n_genes_by_counts_after\"],\n",
    "    }\n",
    ")\n",
    "\n",
    "# 创建一个画布和两个子图\n",
    "fig, axes = plt.subplots(1, 2, figsize=(12, 5))\n",
    "\n",
    "# 校正前的联合分布\n",
    "sns.scatterplot(\n",
    "    x=\"total_counts_before\",\n",
    "    y=\"n_genes_by_counts_before\",\n",
    "    data=df,\n",
    "    alpha=0.7,\n",
    "    ax=axes[0],\n",
    ")\n",
    "sns.kdeplot(\n",
    "    x=\"total_counts_before\",\n",
    "    y=\"n_genes_by_counts_before\",\n",
    "    data=df,\n",
    "    color=\"r\",\n",
    "    levels=6,\n",
    "    ax=axes[0],\n",
    ")\n",
    "axes[0].set_xlabel(\"Total Counts (Before)\")\n",
    "axes[0].set_ylabel(\"Num of Genes (Before)\")\n",
    "axes[0].set_title(\"Before Correction\")\n",
    "\n",
    "# 校正后的联合分布\n",
    "sns.scatterplot(\n",
    "    x=\"total_counts_after\", y=\"n_genes_by_counts_after\", data=df, alpha=0.7, ax=axes[1]\n",
    ")\n",
    "sns.kdeplot(\n",
    "    x=\"total_counts_after\",\n",
    "    y=\"n_genes_by_counts_after\",\n",
    "    data=df,\n",
    "    color=\"r\",\n",
    "    levels=6,\n",
    "    ax=axes[1],\n",
    ")\n",
    "axes[1].set_xlabel(\"Total Counts (After)\")\n",
    "axes[1].set_ylabel(\"Num of Genes (After)\")\n",
    "axes[1].set_title(\"After Correction\")\n",
    "\n",
    "plt.tight_layout()\n",
    "plt.savefig(\"figures/02-校正-环境RNA.pdf\")\n",
    "plt.show()\n",
    "\n",
    "del adata_plot_soup"
   ]
  },
  {
   "cell_type": "code",
   "execution_count": null,
   "metadata": {},
   "outputs": [],
   "source": [
    "## 3.9 基础过滤\n",
    "\"\"\"\n",
    "    - 由于soupX要求不能过滤gene只能过滤细胞,所以基础过滤放在这后面\n",
    "    - soupX需要gene顺序和原始的一致\n",
    "\"\"\"\n",
    "print(f\"Total number of genes: {adata.n_vars}\")\n",
    "sc.pp.filter_cells(adata, min_genes=200)\n",
    "sc.pp.filter_genes(adata, min_cells=3)\n",
    "print(f\"Number of genes after cell filter: {adata.n_vars}\")"
   ]
  },
  {
   "cell_type": "markdown",
   "metadata": {},
   "source": [
    "4.双峰检测\n",
    "\n",
    "- 4.1 双连体过滤\n",
    "- 4.2 保存\n"
   ]
  },
  {
   "cell_type": "code",
   "execution_count": 1,
   "metadata": {},
   "outputs": [],
   "source": [
    "from IPython.display import Markdown as md  # jupyter md\n",
    "import matplotlib as mpl"
   ]
  },
  {
   "cell_type": "code",
   "execution_count": 2,
   "metadata": {},
   "outputs": [],
   "source": [
    "import scanpy as sc\n",
    "import seaborn as sns"
   ]
  },
  {
   "cell_type": "code",
   "execution_count": 3,
   "metadata": {},
   "outputs": [],
   "source": [
    "# 设置参数\n",
    "mpl.rcParams[\"pdf.fonttype\"] = 42  # 保留字体\n",
    "sc.settings.verbosity = 4  # 输出细节\n",
    "sc._settings.ScanpyConfig.n_jobs = -1  # 使用所有核心\n",
    "sc.settings.set_figure_params(\n",
    "    dpi=80,\n",
    "    dpi_save=600,\n",
    "    facecolor=\"white\",\n",
    "    frameon=False,  # remove frame\n",
    ")"
   ]
  },
  {
   "cell_type": "code",
   "execution_count": 4,
   "metadata": {},
   "outputs": [
    {
     "name": "stderr",
     "output_type": "stream",
     "text": [
      "/home/fanxi/miniconda3/envs/lang/lib/python3.11/site-packages/anndata/__init__.py:51: FutureWarning: `anndata.read` is deprecated, use `anndata.read_h5ad` instead. `ad.read` will be removed in mid 2024.\n",
      "  warnings.warn(\n"
     ]
    }
   ],
   "source": [
    "adata = sc.read(\"anndata_qc.h5ad\")"
   ]
  },
  {
   "cell_type": "code",
   "execution_count": 5,
   "metadata": {},
   "outputs": [
    {
     "name": "stdout",
     "output_type": "stream",
     "text": [
      "Running Scrublet\n",
      "filtered out 1322 genes that are detected in less than 3 cells\n"
     ]
    },
    {
     "name": "stderr",
     "output_type": "stream",
     "text": [
      "/home/fanxi/miniconda3/envs/lang/lib/python3.11/site-packages/scanpy/preprocessing/_simple.py:250: ImplicitModificationWarning: Trying to modify attribute `.var` of view, initializing view as actual.\n",
      "  adata.var['n_cells'] = number\n"
     ]
    },
    {
     "name": "stdout",
     "output_type": "stream",
     "text": [
      "normalizing counts per cell\n",
      "    finished (0:00:00)\n",
      "extracting highly variable genes\n",
      "    Gene indices [6095, 6232, 6700] fell into a single bin: their normalized dispersion was set to 1.\n",
      "    Decreasing `n_bins` will likely avoid this effect.\n",
      "    finished (0:00:00)\n",
      "--> added\n",
      "    'highly_variable', boolean vector (adata.var)\n",
      "    'means', float vector (adata.var)\n",
      "    'dispersions', float vector (adata.var)\n",
      "    'dispersions_norm', float vector (adata.var)\n",
      "normalizing counts per cell\n",
      "    finished (0:00:00)\n",
      "normalizing counts per cell\n",
      "    finished (0:00:00)\n"
     ]
    },
    {
     "name": "stderr",
     "output_type": "stream",
     "text": [
      "/home/fanxi/miniconda3/envs/lang/lib/python3.11/site-packages/scanpy/preprocessing/_normalization.py:169: UserWarning: Received a view of an AnnData. Making a copy.\n",
      "  view_to_actual(adata)\n"
     ]
    },
    {
     "name": "stdout",
     "output_type": "stream",
     "text": [
      "Embedding transcriptomes using PCA...\n",
      "Automatically set threshold at doublet score = 0.46\n",
      "Detected doublet rate = 0.2%\n",
      "Estimated detectable doublet fraction = 22.4%\n",
      "Overall doublet rate:\n",
      "\tExpected   = 5.0%\n",
      "\tEstimated  = 0.9%\n",
      "filtered out 1182 genes that are detected in less than 3 cells\n"
     ]
    },
    {
     "name": "stderr",
     "output_type": "stream",
     "text": [
      "/home/fanxi/miniconda3/envs/lang/lib/python3.11/site-packages/scanpy/preprocessing/_simple.py:250: ImplicitModificationWarning: Trying to modify attribute `.var` of view, initializing view as actual.\n",
      "  adata.var['n_cells'] = number\n"
     ]
    },
    {
     "name": "stdout",
     "output_type": "stream",
     "text": [
      "normalizing counts per cell\n",
      "    finished (0:00:00)\n",
      "extracting highly variable genes\n",
      "    Gene indices [6133, 6270, 6742] fell into a single bin: their normalized dispersion was set to 1.\n",
      "    Decreasing `n_bins` will likely avoid this effect.\n",
      "    finished (0:00:00)\n",
      "--> added\n",
      "    'highly_variable', boolean vector (adata.var)\n",
      "    'means', float vector (adata.var)\n",
      "    'dispersions', float vector (adata.var)\n",
      "    'dispersions_norm', float vector (adata.var)\n",
      "normalizing counts per cell\n",
      "    finished (0:00:00)\n",
      "normalizing counts per cell\n",
      "    finished (0:00:00)\n"
     ]
    },
    {
     "name": "stderr",
     "output_type": "stream",
     "text": [
      "/home/fanxi/miniconda3/envs/lang/lib/python3.11/site-packages/scanpy/preprocessing/_normalization.py:169: UserWarning: Received a view of an AnnData. Making a copy.\n",
      "  view_to_actual(adata)\n"
     ]
    },
    {
     "name": "stdout",
     "output_type": "stream",
     "text": [
      "Embedding transcriptomes using PCA...\n",
      "Automatically set threshold at doublet score = 0.32\n",
      "Detected doublet rate = 0.8%\n",
      "Estimated detectable doublet fraction = 39.6%\n",
      "Overall doublet rate:\n",
      "\tExpected   = 5.0%\n",
      "\tEstimated  = 1.9%\n",
      "filtered out 611 genes that are detected in less than 3 cells\n"
     ]
    },
    {
     "name": "stderr",
     "output_type": "stream",
     "text": [
      "/home/fanxi/miniconda3/envs/lang/lib/python3.11/site-packages/scanpy/preprocessing/_simple.py:250: ImplicitModificationWarning: Trying to modify attribute `.var` of view, initializing view as actual.\n",
      "  adata.var['n_cells'] = number\n"
     ]
    },
    {
     "name": "stdout",
     "output_type": "stream",
     "text": [
      "normalizing counts per cell\n",
      "    finished (0:00:00)\n",
      "extracting highly variable genes\n",
      "    Gene indices [6401, 6535] fell into a single bin: their normalized dispersion was set to 1.\n",
      "    Decreasing `n_bins` will likely avoid this effect.\n",
      "    finished (0:00:00)\n",
      "--> added\n",
      "    'highly_variable', boolean vector (adata.var)\n",
      "    'means', float vector (adata.var)\n",
      "    'dispersions', float vector (adata.var)\n",
      "    'dispersions_norm', float vector (adata.var)\n",
      "normalizing counts per cell\n",
      "    finished (0:00:00)\n",
      "normalizing counts per cell\n",
      "    finished (0:00:00)\n"
     ]
    },
    {
     "name": "stderr",
     "output_type": "stream",
     "text": [
      "/home/fanxi/miniconda3/envs/lang/lib/python3.11/site-packages/scanpy/preprocessing/_normalization.py:169: UserWarning: Received a view of an AnnData. Making a copy.\n",
      "  view_to_actual(adata)\n"
     ]
    },
    {
     "name": "stdout",
     "output_type": "stream",
     "text": [
      "Embedding transcriptomes using PCA...\n",
      "Automatically set threshold at doublet score = 0.63\n",
      "Detected doublet rate = 0.0%\n",
      "Estimated detectable doublet fraction = 7.7%\n",
      "Overall doublet rate:\n",
      "\tExpected   = 5.0%\n",
      "\tEstimated  = 0.2%\n",
      "filtered out 2233 genes that are detected in less than 3 cells\n",
      "normalizing counts per cell\n",
      "    finished (0:00:00)\n",
      "extracting highly variable genes\n"
     ]
    },
    {
     "name": "stderr",
     "output_type": "stream",
     "text": [
      "/home/fanxi/miniconda3/envs/lang/lib/python3.11/site-packages/scanpy/preprocessing/_simple.py:250: ImplicitModificationWarning: Trying to modify attribute `.var` of view, initializing view as actual.\n",
      "  adata.var['n_cells'] = number\n"
     ]
    },
    {
     "name": "stdout",
     "output_type": "stream",
     "text": [
      "    Gene indices [5614, 5620] fell into a single bin: their normalized dispersion was set to 1.\n",
      "    Decreasing `n_bins` will likely avoid this effect.\n",
      "    finished (0:00:00)\n",
      "--> added\n",
      "    'highly_variable', boolean vector (adata.var)\n",
      "    'means', float vector (adata.var)\n",
      "    'dispersions', float vector (adata.var)\n",
      "    'dispersions_norm', float vector (adata.var)\n",
      "normalizing counts per cell\n",
      "    finished (0:00:00)\n",
      "normalizing counts per cell\n",
      "    finished (0:00:00)\n"
     ]
    },
    {
     "name": "stderr",
     "output_type": "stream",
     "text": [
      "/home/fanxi/miniconda3/envs/lang/lib/python3.11/site-packages/scanpy/preprocessing/_normalization.py:169: UserWarning: Received a view of an AnnData. Making a copy.\n",
      "  view_to_actual(adata)\n"
     ]
    },
    {
     "name": "stdout",
     "output_type": "stream",
     "text": [
      "Embedding transcriptomes using PCA...\n",
      "Automatically set threshold at doublet score = 0.55\n",
      "Detected doublet rate = 0.0%\n",
      "Estimated detectable doublet fraction = 0.3%\n",
      "Overall doublet rate:\n",
      "\tExpected   = 5.0%\n",
      "\tEstimated  = 0.0%\n",
      "filtered out 508 genes that are detected in less than 3 cells\n"
     ]
    },
    {
     "name": "stderr",
     "output_type": "stream",
     "text": [
      "/home/fanxi/miniconda3/envs/lang/lib/python3.11/site-packages/scanpy/preprocessing/_simple.py:250: ImplicitModificationWarning: Trying to modify attribute `.var` of view, initializing view as actual.\n",
      "  adata.var['n_cells'] = number\n"
     ]
    },
    {
     "name": "stdout",
     "output_type": "stream",
     "text": [
      "normalizing counts per cell\n",
      "    finished (0:00:00)\n",
      "extracting highly variable genes\n",
      "    Gene indices [6424, 6563, 7044] fell into a single bin: their normalized dispersion was set to 1.\n",
      "    Decreasing `n_bins` will likely avoid this effect.\n",
      "    finished (0:00:00)\n",
      "--> added\n",
      "    'highly_variable', boolean vector (adata.var)\n",
      "    'means', float vector (adata.var)\n",
      "    'dispersions', float vector (adata.var)\n",
      "    'dispersions_norm', float vector (adata.var)\n",
      "normalizing counts per cell\n",
      "    finished (0:00:00)\n",
      "normalizing counts per cell\n",
      "    finished (0:00:00)\n"
     ]
    },
    {
     "name": "stderr",
     "output_type": "stream",
     "text": [
      "/home/fanxi/miniconda3/envs/lang/lib/python3.11/site-packages/scanpy/preprocessing/_normalization.py:169: UserWarning: Received a view of an AnnData. Making a copy.\n",
      "  view_to_actual(adata)\n"
     ]
    },
    {
     "name": "stdout",
     "output_type": "stream",
     "text": [
      "Embedding transcriptomes using PCA...\n",
      "Automatically set threshold at doublet score = 0.31\n",
      "Detected doublet rate = 0.7%\n",
      "Estimated detectable doublet fraction = 39.5%\n",
      "Overall doublet rate:\n",
      "\tExpected   = 5.0%\n",
      "\tEstimated  = 1.9%\n",
      "filtered out 1266 genes that are detected in less than 3 cells\n"
     ]
    },
    {
     "name": "stderr",
     "output_type": "stream",
     "text": [
      "/home/fanxi/miniconda3/envs/lang/lib/python3.11/site-packages/scanpy/preprocessing/_simple.py:250: ImplicitModificationWarning: Trying to modify attribute `.var` of view, initializing view as actual.\n",
      "  adata.var['n_cells'] = number\n"
     ]
    },
    {
     "name": "stdout",
     "output_type": "stream",
     "text": [
      "normalizing counts per cell\n",
      "    finished (0:00:00)\n",
      "extracting highly variable genes\n",
      "    Gene indices [6110, 6249, 6717] fell into a single bin: their normalized dispersion was set to 1.\n",
      "    Decreasing `n_bins` will likely avoid this effect.\n",
      "    finished (0:00:00)\n",
      "--> added\n",
      "    'highly_variable', boolean vector (adata.var)\n",
      "    'means', float vector (adata.var)\n",
      "    'dispersions', float vector (adata.var)\n",
      "    'dispersions_norm', float vector (adata.var)\n",
      "normalizing counts per cell\n",
      "    finished (0:00:00)\n",
      "normalizing counts per cell\n",
      "    finished (0:00:00)\n"
     ]
    },
    {
     "name": "stderr",
     "output_type": "stream",
     "text": [
      "/home/fanxi/miniconda3/envs/lang/lib/python3.11/site-packages/scanpy/preprocessing/_normalization.py:169: UserWarning: Received a view of an AnnData. Making a copy.\n",
      "  view_to_actual(adata)\n"
     ]
    },
    {
     "name": "stdout",
     "output_type": "stream",
     "text": [
      "Embedding transcriptomes using PCA...\n",
      "Automatically set threshold at doublet score = 0.63\n",
      "Detected doublet rate = 0.0%\n",
      "Estimated detectable doublet fraction = 13.1%\n",
      "Overall doublet rate:\n",
      "\tExpected   = 5.0%\n",
      "\tEstimated  = 0.4%\n",
      "    Scrublet finished (0:01:02)\n"
     ]
    }
   ],
   "source": [
    "# 4.1 双连体过滤\n",
    "# obs 新增scrublet_score 和 predicted_doublet\n",
    "sc.external.pp.scrublet(\n",
    "    adata,\n",
    "    batch_key=\"batch\",  # 批次\n",
    "    random_state=123,\n",
    ")"
   ]
  },
  {
   "cell_type": "code",
   "execution_count": 6,
   "metadata": {},
   "outputs": [],
   "source": [
    "import matplotlib.pyplot as plt\n",
    "\n",
    "fig, axes = plt.subplots(1, 2, figsize=(10, 5))\n",
    "\n",
    "sns.scatterplot(\n",
    "    adata.obs,\n",
    "    x=\"n_genes_by_counts\",\n",
    "    y=\"doublet_score\",\n",
    "    hue=\"predicted_doublet\",\n",
    "    ax=axes[0],\n",
    ")\n",
    "sns.scatterplot(\n",
    "    adata.obs, x=\"total_counts\", y=\"doublet_score\", hue=\"predicted_doublet\", ax=axes[1]\n",
    ")\n",
    "plt.tight_layout()\n",
    "plt.savefig(\"figures/02-校正-双连体.pdf\")\n",
    "plt.savefig(\"figures/02-校正-双连体.tiff\", dpi=600)\n",
    "plt.show()"
   ]
  },
  {
   "cell_type": "code",
   "execution_count": 7,
   "metadata": {},
   "outputs": [
    {
     "name": "stdout",
     "output_type": "stream",
     "text": [
      "过滤前的细胞总数：66797\n",
      "预测为 doublet 的细胞数目：229\n",
      "过滤后的细胞总数：66568\n"
     ]
    }
   ],
   "source": [
    "## 4.1.2 双连体过滤\n",
    "# 新增uns.scrublet\n",
    "# 打印过滤前的细胞总数\n",
    "print(f\"过滤前的细胞总数：{adata.shape[0]}\")\n",
    "\n",
    "# 打印预测为 doublet 的细胞数目\n",
    "print(f\"预测为 doublet 的细胞数目：{adata.obs['predicted_doublet'].sum()}\")\n",
    "\n",
    "# 过滤掉预测为 doublet 的细胞\n",
    "adata = adata[adata.obs[\"predicted_doublet\"] == False, :]\n",
    "\n",
    "# 打印过滤后的细胞总数\n",
    "print(f\"过滤后的细胞总数：{adata.shape[0]}\")"
   ]
  },
  {
   "cell_type": "code",
   "execution_count": 8,
   "metadata": {},
   "outputs": [
    {
     "name": "stderr",
     "output_type": "stream",
     "text": [
      "/home/fanxi/miniconda3/envs/lang/lib/python3.11/site-packages/anndata/_core/anndata.py:1301: ImplicitModificationWarning: Trying to modify attribute `.obs` of view, initializing view as actual.\n",
      "  df[key] = c\n",
      "/home/fanxi/miniconda3/envs/lang/lib/python3.11/site-packages/anndata/_core/anndata.py:1301: ImplicitModificationWarning: Trying to modify attribute `.obs` of view, initializing view as actual.\n",
      "  df[key] = c\n",
      "/home/fanxi/miniconda3/envs/lang/lib/python3.11/site-packages/anndata/_core/anndata.py:1301: ImplicitModificationWarning: Trying to modify attribute `.obs` of view, initializing view as actual.\n",
      "  df[key] = c\n",
      "/home/fanxi/miniconda3/envs/lang/lib/python3.11/site-packages/anndata/_core/anndata.py:1301: ImplicitModificationWarning: Trying to modify attribute `.obs` of view, initializing view as actual.\n",
      "  df[key] = c\n",
      "/home/fanxi/miniconda3/envs/lang/lib/python3.11/site-packages/anndata/_core/anndata.py:1301: ImplicitModificationWarning: Trying to modify attribute `.obs` of view, initializing view as actual.\n",
      "  df[key] = c\n",
      "/home/fanxi/miniconda3/envs/lang/lib/python3.11/site-packages/anndata/_core/anndata.py:1301: ImplicitModificationWarning: Trying to modify attribute `.obs` of view, initializing view as actual.\n",
      "  df[key] = c\n",
      "/home/fanxi/miniconda3/envs/lang/lib/python3.11/site-packages/anndata/_core/anndata.py:1301: ImplicitModificationWarning: Trying to modify attribute `.obs` of view, initializing view as actual.\n",
      "  df[key] = c\n",
      "/home/fanxi/miniconda3/envs/lang/lib/python3.11/site-packages/anndata/_core/anndata.py:1301: ImplicitModificationWarning: Trying to modify attribute `.obs` of view, initializing view as actual.\n",
      "  df[key] = c\n",
      "/home/fanxi/miniconda3/envs/lang/lib/python3.11/site-packages/anndata/_core/anndata.py:1301: ImplicitModificationWarning: Trying to modify attribute `.obs` of view, initializing view as actual.\n",
      "  df[key] = c\n",
      "/home/fanxi/miniconda3/envs/lang/lib/python3.11/site-packages/anndata/_core/anndata.py:1301: ImplicitModificationWarning: Trying to modify attribute `.obs` of view, initializing view as actual.\n",
      "  df[key] = c\n"
     ]
    }
   ],
   "source": [
    "# 4.2 保存\n",
    "adata.write(\"anndata_scrublet.h5ad\", compression=\"gzip\")  # type: ignore"
   ]
  },
  {
   "cell_type": "code",
   "execution_count": 9,
   "metadata": {},
   "outputs": [
    {
     "data": {
      "text/plain": [
       "AnnData object with n_obs × n_vars = 66568 × 17065\n",
       "    obs: 'C0', 'orig.ident', 'nCount_RNA', 'nFeature_RNA', 'nCount_antibody', 'nFeature_antibody', 'patients', 'sampletag', 'organs', 'percent.mt', 'percent.ribo', 'log10GenesPerUMI', 'batch', 'integrated_snn_res.0.5', 'seurat_clusters', 'samples', 'doublet.score', 'predicted.doublet', 'cluster', 'doublet', 'patients_organ', 'sample', 'group', 'n_genes_by_counts', 'log1p_n_genes_by_counts', 'total_counts', 'log1p_total_counts', 'pct_counts_in_top_20_genes', 'pct_counts_in_top_50_genes', 'pct_counts_in_top_100_genes', 'pct_counts_in_top_200_genes', 'pct_counts_in_top_500_genes', 'total_counts_mt', 'log1p_total_counts_mt', 'pct_counts_mt', 'total_counts_ribo', 'log1p_total_counts_ribo', 'pct_counts_ribo', 'total_counts_hb', 'log1p_total_counts_hb', 'pct_counts_hb', 'n_genes', 'outlier', 'mt_outlier', 'discard', 'doublet_score', 'predicted_doublet'\n",
       "    var: 'mt', 'ribo', 'hb', 'n_cells_by_counts', 'mean_counts', 'log1p_mean_counts', 'pct_dropout_by_counts', 'total_counts', 'log1p_total_counts', 'n_cells'\n",
       "    uns: 'scrublet'"
      ]
     },
     "execution_count": 9,
     "metadata": {},
     "output_type": "execute_result"
    }
   ],
   "source": [
    "adata"
   ]
  },
  {
   "cell_type": "code",
   "execution_count": null,
   "metadata": {},
   "outputs": [],
   "source": []
  }
 ],
 "metadata": {
  "jupytext": {
   "formats": "ipynb,py:percent"
  },
  "kernelspec": {
   "display_name": "lang",
   "language": "python",
   "name": "python3"
  },
  "language_info": {
   "codemirror_mode": {
    "name": "ipython",
    "version": 3
   },
   "file_extension": ".py",
   "mimetype": "text/x-python",
   "name": "python",
   "nbconvert_exporter": "python",
   "pygments_lexer": "ipython3",
   "version": "3.11.8"
  }
 },
 "nbformat": 4,
 "nbformat_minor": 4
}
